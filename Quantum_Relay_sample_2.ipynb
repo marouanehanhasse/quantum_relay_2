{
 "cells": [
  {
   "cell_type": "code",
   "execution_count": 1,
   "metadata": {},
   "outputs": [
    {
     "name": "stderr",
     "output_type": "stream",
     "text": [
      "┌ Info: Loading DataFrames support into Gadfly.jl\n",
      "└ @ Gadfly /Users/midow/.julia/packages/Gadfly/09PWZ/src/mapping.jl:228\n"
     ]
    },
    {
     "data": {
      "text/plain": [
       "qrelay (generic function with 1 method)"
      ]
     },
     "execution_count": 1,
     "metadata": {},
     "output_type": "execute_result"
    }
   ],
   "source": [
    "using Random\n",
    "using Distributions\n",
    "using PyPlot\n",
    "using QuantumRelay\n",
    "using DataFrames\n",
    "using RobustAdaptiveMetropolisSampler\n",
    "using LinearAlgebra\n",
    "function qrelay(alpha, delta, name)\n",
    "    n = 6\n",
    "    chi = fill(sqrt(0.06), n)\n",
    "    phi = [im * tanh(chi[i]) for i=1:n]\n",
    "    omega = [1.0 / prod(cosh(chi[j]))^2 for j=1:n]\n",
    "    syms, op = qrelay_op(n, phi, alpha, delta)\n",
    "    op_a, op_ab, mat, coef = op_mat(op)\n",
    "\n",
    "    op_q2 = [syms.apH[1], syms.apV[1], syms.bpH[end], syms.bpV[end]]\n",
    "    op_q1 = [syms.apH[2:end]..., syms.apV[2:end]..., syms.bpH[1:end-1]..., syms.bpV[1:end-1]...]\n",
    "    mask_q1 = [op in op_q1 for op in op_a];\n",
    "    mask_q2 = [op in op_q2 for op in op_a];\n",
    "    qq = [x in syms.apH || x in syms.bpV ? 1 : 0 for x in op_a]\n",
    "    \n",
    "    pdet0 = pdet_maker(0.04, 1e-5)\n",
    "    qrs = QRelaySampler(mat, coef, omega, pdet0)\n",
    "\n",
    "    targetcache = Dict{Vector{Int}, Float64}()\n",
    "    function plogtarget(na::Vector{Int})\n",
    "        get!(targetcache, na) do\n",
    "            log(qrs.prob(qq, na, mask_q1) * qrs.prob(na))\n",
    "        end\n",
    "    end\n",
    "    chain, accrate, S = RAM_sample(p -> logpdf(plogtarget,p[1]), zeros(length(qq)),0.5, 1000)\n",
    "     \n",
    "    \n",
    "    funcQ(v)=qrs.prob(qq, v, mask_q2)\n",
    "    return qrs, chain, accrate ,S, funcQ\n",
    "end\n",
    "        "
   ]
  },
  {
   "cell_type": "code",
   "execution_count": null,
   "metadata": {},
   "outputs": [],
   "source": [
    "dataname=\"data3\"\n",
    "results = []\n",
    "for i = 0:12\n",
    "    beta = i*pi/12\n",
    "    name = string(i) \n",
    "    mkpath(\"$dataname/$name\")\n",
    "    qrs, chain, accrate, S , funcQ = qrelay(pi/4, beta, name)\n",
    "    println(\"beta:\", beta)\n",
    "\n",
    "    push!(results, (qrs, chain, accrate, S, funcQ))\n",
    "end"
   ]
  },
  {
   "cell_type": "code",
   "execution_count": null,
   "metadata": {},
   "outputs": [],
   "source": []
  }
 ],
 "metadata": {
  "kernelspec": {
   "display_name": "Julia 1.2.0",
   "language": "julia",
   "name": "julia-1.2"
  },
  "language_info": {
   "file_extension": ".jl",
   "mimetype": "application/julia",
   "name": "julia",
   "version": "1.2.0"
  }
 },
 "nbformat": 4,
 "nbformat_minor": 2
}
